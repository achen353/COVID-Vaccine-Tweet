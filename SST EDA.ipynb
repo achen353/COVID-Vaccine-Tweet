{
 "cells": [
  {
   "cell_type": "markdown",
   "id": "protected-meeting",
   "metadata": {},
   "source": [
    "# Exploratory Data Analysis: Stanford Sentiment Treebank (SST-5) Dataset"
   ]
  },
  {
   "cell_type": "markdown",
   "id": "anonymous-bargain",
   "metadata": {},
   "source": [
    "The Stanford Sentiment Treebank (SST-5, or SST-fine-grained) dataset is a suitable benchmark to test our application, since it was designed to help evaluate a model’s ability to understand representations of sentence structure, rather than just looking at individual words in isolation. SST-5 consists of 11,855 sentences extracted from movie reviews with fine-grained sentiment labels [1–5], as well as 215,154 phrases that compose each sentence in the dataset."
   ]
  },
  {
   "cell_type": "markdown",
   "id": "latin-writing",
   "metadata": {},
   "source": [
    "<img src=\"https://miro.medium.com/max/700/1*ug8kyqUlnqEuo3LhHfNypg.png\"> "
   ]
  },
  {
   "cell_type": "markdown",
   "id": "married-manchester",
   "metadata": {},
   "source": [
    "Since we are not using a recursive tree-based classifier like the Stanford paper, I prepared the data in complete samples(ignoring the component phrases). The tree structure of phrases is converted to raw text and its associated class label using the pytreebank library."
   ]
  },
  {
   "cell_type": "code",
   "execution_count": 1,
   "id": "interior-scratch",
   "metadata": {},
   "outputs": [],
   "source": [
    "import pytreebank\n",
    "import pandas as pd\n",
    "import matplotlib.pyplot as plt\n",
    "import sys\n",
    "import os"
   ]
  },
  {
   "cell_type": "code",
   "execution_count": 2,
   "id": "positive-nevada",
   "metadata": {},
   "outputs": [
    {
     "name": "stdout",
     "output_type": "stream",
     "text": [
      "Train data length:  8544\n",
      "Test data length:  2210\n",
      "Dev data length:  1101\n"
     ]
    }
   ],
   "source": [
    "# Load data using pytreebank library\n",
    "data_root = './data/sst/'\n",
    "out_path = os.path.join(data_root, 'sst_{}.txt')\n",
    "dataset = pytreebank.load_sst(os.path.join(data_root, 'raw_data'))\n",
    "\n",
    "# Store train, dev and test in separate files\n",
    "for category in ['train', 'test', 'dev']:\n",
    "    with open(out_path.format(category), 'w') as outfile:\n",
    "        for item in dataset[category]:\n",
    "            outfile.write(\"__label__{}\\t{}\\n\".format(\n",
    "                item.to_labeled_lines()[0][0] + 1, item.to_labeled_lines()[0][1]\n",
    "            ))\n",
    "\n",
    "# Print the length of the training set\n",
    "print(\"Train data length: \", len(dataset['train']))\n",
    "print(\"Test data length: \", len(dataset['test']))\n",
    "print(\"Dev data length: \", len(dataset['dev']))"
   ]
  },
  {
   "cell_type": "code",
   "execution_count": 3,
   "id": "editorial-agent",
   "metadata": {},
   "outputs": [
    {
     "data": {
      "text/html": [
       "<div>\n",
       "<style scoped>\n",
       "    .dataframe tbody tr th:only-of-type {\n",
       "        vertical-align: middle;\n",
       "    }\n",
       "\n",
       "    .dataframe tbody tr th {\n",
       "        vertical-align: top;\n",
       "    }\n",
       "\n",
       "    .dataframe thead th {\n",
       "        text-align: right;\n",
       "    }\n",
       "</style>\n",
       "<table border=\"1\" class=\"dataframe\">\n",
       "  <thead>\n",
       "    <tr style=\"text-align: right;\">\n",
       "      <th></th>\n",
       "      <th>truth</th>\n",
       "      <th>text</th>\n",
       "    </tr>\n",
       "  </thead>\n",
       "  <tbody>\n",
       "    <tr>\n",
       "      <th>0</th>\n",
       "      <td>4</td>\n",
       "      <td>The Rock is destined to be the 21st Century 's...</td>\n",
       "    </tr>\n",
       "    <tr>\n",
       "      <th>1</th>\n",
       "      <td>5</td>\n",
       "      <td>The gorgeously elaborate continuation of `` Th...</td>\n",
       "    </tr>\n",
       "    <tr>\n",
       "      <th>2</th>\n",
       "      <td>4</td>\n",
       "      <td>Singer/composer Bryan Adams contributes a slew...</td>\n",
       "    </tr>\n",
       "    <tr>\n",
       "      <th>3</th>\n",
       "      <td>3</td>\n",
       "      <td>You 'd think by now America would have had eno...</td>\n",
       "    </tr>\n",
       "    <tr>\n",
       "      <th>4</th>\n",
       "      <td>4</td>\n",
       "      <td>Yet the act is still charming here .</td>\n",
       "    </tr>\n",
       "    <tr>\n",
       "      <th>...</th>\n",
       "      <td>...</td>\n",
       "      <td>...</td>\n",
       "    </tr>\n",
       "    <tr>\n",
       "      <th>8539</th>\n",
       "      <td>1</td>\n",
       "      <td>A real snooze .</td>\n",
       "    </tr>\n",
       "    <tr>\n",
       "      <th>8540</th>\n",
       "      <td>2</td>\n",
       "      <td>No surprises .</td>\n",
       "    </tr>\n",
       "    <tr>\n",
       "      <th>8541</th>\n",
       "      <td>4</td>\n",
       "      <td>We 've seen the hippie-turned-yuppie plot befo...</td>\n",
       "    </tr>\n",
       "    <tr>\n",
       "      <th>8542</th>\n",
       "      <td>1</td>\n",
       "      <td>Her fans walked out muttering words like `` ho...</td>\n",
       "    </tr>\n",
       "    <tr>\n",
       "      <th>8543</th>\n",
       "      <td>2</td>\n",
       "      <td>In this case zero .</td>\n",
       "    </tr>\n",
       "  </tbody>\n",
       "</table>\n",
       "<p>8544 rows × 2 columns</p>\n",
       "</div>"
      ],
      "text/plain": [
       "     truth                                               text\n",
       "0        4  The Rock is destined to be the 21st Century 's...\n",
       "1        5  The gorgeously elaborate continuation of `` Th...\n",
       "2        4  Singer/composer Bryan Adams contributes a slew...\n",
       "3        3  You 'd think by now America would have had eno...\n",
       "4        4               Yet the act is still charming here .\n",
       "...    ...                                                ...\n",
       "8539     1                                    A real snooze .\n",
       "8540     2                                     No surprises .\n",
       "8541     4  We 've seen the hippie-turned-yuppie plot befo...\n",
       "8542     1  Her fans walked out muttering words like `` ho...\n",
       "8543     2                                In this case zero .\n",
       "\n",
       "[8544 rows x 2 columns]"
      ]
     },
     "execution_count": 3,
     "metadata": {},
     "output_type": "execute_result"
    }
   ],
   "source": [
    "# Read train data\n",
    "df_train = pd.read_csv(\n",
    "    os.path.join(data_root, 'sst_train.txt'), sep='\\t', header=None, names=['truth', 'text']\n",
    ")\n",
    "df_train['truth'] = df_train['truth'].str.replace('__label__', '')\n",
    "df_train['truth'] = df_train['truth'].astype(int).astype('category')\n",
    "df_train"
   ]
  },
  {
   "cell_type": "code",
   "execution_count": 4,
   "id": "textile-electric",
   "metadata": {},
   "outputs": [
    {
     "data": {
      "text/plain": [
       "Text(0, 0.5, 'Label')"
      ]
     },
     "execution_count": 4,
     "metadata": {},
     "output_type": "execute_result"
    },
    {
     "data": {
      "image/png": "[encoded data removed]",
      "text/plain": [
       "<Figure size 432x288 with 1 Axes>"
      ]
     },
     "metadata": {
      "needs_background": "light"
     },
     "output_type": "display_data"
    }
   ],
   "source": [
    "ax = df_train['truth'].value_counts(sort=False).plot(kind='barh')\n",
    "ax.set_xlabel(\"Number of Samples in Training Set\")\n",
    "ax.set_ylabel(\"Label\")"
   ]
  },
  {
   "cell_type": "code",
   "execution_count": 5,
   "id": "unauthorized-anime",
   "metadata": {},
   "outputs": [
    {
     "data": {
      "text/html": [
       "<div>\n",
       "<style scoped>\n",
       "    .dataframe tbody tr th:only-of-type {\n",
       "        vertical-align: middle;\n",
       "    }\n",
       "\n",
       "    .dataframe tbody tr th {\n",
       "        vertical-align: top;\n",
       "    }\n",
       "\n",
       "    .dataframe thead th {\n",
       "        text-align: right;\n",
       "    }\n",
       "</style>\n",
       "<table border=\"1\" class=\"dataframe\">\n",
       "  <thead>\n",
       "    <tr style=\"text-align: right;\">\n",
       "      <th></th>\n",
       "      <th>truth</th>\n",
       "      <th>text</th>\n",
       "    </tr>\n",
       "  </thead>\n",
       "  <tbody>\n",
       "    <tr>\n",
       "      <th>0</th>\n",
       "      <td>3</td>\n",
       "      <td>Effective but too-tepid biopic</td>\n",
       "    </tr>\n",
       "    <tr>\n",
       "      <th>1</th>\n",
       "      <td>4</td>\n",
       "      <td>If you sometimes like to go to the movies to h...</td>\n",
       "    </tr>\n",
       "    <tr>\n",
       "      <th>2</th>\n",
       "      <td>5</td>\n",
       "      <td>Emerges as something rare , an issue movie tha...</td>\n",
       "    </tr>\n",
       "    <tr>\n",
       "      <th>3</th>\n",
       "      <td>3</td>\n",
       "      <td>The film provides some great insight into the ...</td>\n",
       "    </tr>\n",
       "    <tr>\n",
       "      <th>4</th>\n",
       "      <td>5</td>\n",
       "      <td>Offers that rare combination of entertainment ...</td>\n",
       "    </tr>\n",
       "    <tr>\n",
       "      <th>...</th>\n",
       "      <td>...</td>\n",
       "      <td>...</td>\n",
       "    </tr>\n",
       "    <tr>\n",
       "      <th>2205</th>\n",
       "      <td>4</td>\n",
       "      <td>An imaginative comedy/thriller .</td>\n",
       "    </tr>\n",
       "    <tr>\n",
       "      <th>2206</th>\n",
       "      <td>5</td>\n",
       "      <td>( A ) rare , beautiful film .</td>\n",
       "    </tr>\n",
       "    <tr>\n",
       "      <th>2207</th>\n",
       "      <td>5</td>\n",
       "      <td>( An ) hilarious romantic comedy .</td>\n",
       "    </tr>\n",
       "    <tr>\n",
       "      <th>2208</th>\n",
       "      <td>4</td>\n",
       "      <td>Never ( sinks ) into exploitation .</td>\n",
       "    </tr>\n",
       "    <tr>\n",
       "      <th>2209</th>\n",
       "      <td>1</td>\n",
       "      <td>( U ) nrelentingly stupid .</td>\n",
       "    </tr>\n",
       "  </tbody>\n",
       "</table>\n",
       "<p>2210 rows × 2 columns</p>\n",
       "</div>"
      ],
      "text/plain": [
       "     truth                                               text\n",
       "0        3                     Effective but too-tepid biopic\n",
       "1        4  If you sometimes like to go to the movies to h...\n",
       "2        5  Emerges as something rare , an issue movie tha...\n",
       "3        3  The film provides some great insight into the ...\n",
       "4        5  Offers that rare combination of entertainment ...\n",
       "...    ...                                                ...\n",
       "2205     4                   An imaginative comedy/thriller .\n",
       "2206     5                      ( A ) rare , beautiful film .\n",
       "2207     5                 ( An ) hilarious romantic comedy .\n",
       "2208     4                Never ( sinks ) into exploitation .\n",
       "2209     1                        ( U ) nrelentingly stupid .\n",
       "\n",
       "[2210 rows x 2 columns]"
      ]
     },
     "execution_count": 5,
     "metadata": {},
     "output_type": "execute_result"
    }
   ],
   "source": [
    "# Read test data\n",
    "df_test = pd.read_csv(\n",
    "    os.path.join(data_root, 'sst_test.txt'), sep='\\t', header=None, names=['truth', 'text']\n",
    ")\n",
    "df_test['truth'] = df_test['truth'].str.replace('__label__', '')\n",
    "df_test['truth'] = df_test['truth'].astype(int).astype('category')\n",
    "df_test"
   ]
  },
  {
   "cell_type": "code",
   "execution_count": 6,
   "id": "pharmaceutical-people",
   "metadata": {},
   "outputs": [
    {
     "data": {
      "text/plain": [
       "Text(0, 0.5, 'Label')"
      ]
     },
     "execution_count": 6,
     "metadata": {},
     "output_type": "execute_result"
    },
    {
     "data": {
      "image/png": "[encoded data removed]",
      "text/plain": [
       "<Figure size 432x288 with 1 Axes>"
      ]
     },
     "metadata": {
      "needs_background": "light"
     },
     "output_type": "display_data"
    }
   ],
   "source": [
    "ax = df_test['truth'].value_counts(sort=False).plot(kind='barh')\n",
    "ax.set_xlabel(\"Number of Samples in Testing Set\")\n",
    "ax.set_ylabel(\"Label\")"
   ]
  },
  {
   "cell_type": "code",
   "execution_count": 7,
   "id": "minute-today",
   "metadata": {},
   "outputs": [
    {
     "data": {
      "text/html": [
       "<div>\n",
       "<style scoped>\n",
       "    .dataframe tbody tr th:only-of-type {\n",
       "        vertical-align: middle;\n",
       "    }\n",
       "\n",
       "    .dataframe tbody tr th {\n",
       "        vertical-align: top;\n",
       "    }\n",
       "\n",
       "    .dataframe thead th {\n",
       "        text-align: right;\n",
       "    }\n",
       "</style>\n",
       "<table border=\"1\" class=\"dataframe\">\n",
       "  <thead>\n",
       "    <tr style=\"text-align: right;\">\n",
       "      <th></th>\n",
       "      <th>truth</th>\n",
       "      <th>text</th>\n",
       "    </tr>\n",
       "  </thead>\n",
       "  <tbody>\n",
       "    <tr>\n",
       "      <th>0</th>\n",
       "      <td>4</td>\n",
       "      <td>It 's a lovely film with lovely performances b...</td>\n",
       "    </tr>\n",
       "    <tr>\n",
       "      <th>1</th>\n",
       "      <td>3</td>\n",
       "      <td>No one goes unindicted here , which is probabl...</td>\n",
       "    </tr>\n",
       "    <tr>\n",
       "      <th>2</th>\n",
       "      <td>4</td>\n",
       "      <td>And if you 're not nearly moved to tears by a ...</td>\n",
       "    </tr>\n",
       "    <tr>\n",
       "      <th>3</th>\n",
       "      <td>5</td>\n",
       "      <td>A warm , funny , engaging film .</td>\n",
       "    </tr>\n",
       "    <tr>\n",
       "      <th>4</th>\n",
       "      <td>5</td>\n",
       "      <td>Uses sharp humor and insight into human nature...</td>\n",
       "    </tr>\n",
       "    <tr>\n",
       "      <th>...</th>\n",
       "      <td>...</td>\n",
       "      <td>...</td>\n",
       "    </tr>\n",
       "    <tr>\n",
       "      <th>1096</th>\n",
       "      <td>2</td>\n",
       "      <td>it seems to me the film is about the art of ri...</td>\n",
       "    </tr>\n",
       "    <tr>\n",
       "      <th>1097</th>\n",
       "      <td>2</td>\n",
       "      <td>It 's just disappointingly superficial -- a mo...</td>\n",
       "    </tr>\n",
       "    <tr>\n",
       "      <th>1098</th>\n",
       "      <td>2</td>\n",
       "      <td>The title not only describes its main characte...</td>\n",
       "    </tr>\n",
       "    <tr>\n",
       "      <th>1099</th>\n",
       "      <td>3</td>\n",
       "      <td>Sometimes it feels as if it might have been ma...</td>\n",
       "    </tr>\n",
       "    <tr>\n",
       "      <th>1100</th>\n",
       "      <td>2</td>\n",
       "      <td>Schaeffer has to find some hook on which to ha...</td>\n",
       "    </tr>\n",
       "  </tbody>\n",
       "</table>\n",
       "<p>1101 rows × 2 columns</p>\n",
       "</div>"
      ],
      "text/plain": [
       "     truth                                               text\n",
       "0        4  It 's a lovely film with lovely performances b...\n",
       "1        3  No one goes unindicted here , which is probabl...\n",
       "2        4  And if you 're not nearly moved to tears by a ...\n",
       "3        5                   A warm , funny , engaging film .\n",
       "4        5  Uses sharp humor and insight into human nature...\n",
       "...    ...                                                ...\n",
       "1096     2  it seems to me the film is about the art of ri...\n",
       "1097     2  It 's just disappointingly superficial -- a mo...\n",
       "1098     2  The title not only describes its main characte...\n",
       "1099     3  Sometimes it feels as if it might have been ma...\n",
       "1100     2  Schaeffer has to find some hook on which to ha...\n",
       "\n",
       "[1101 rows x 2 columns]"
      ]
     },
     "execution_count": 7,
     "metadata": {},
     "output_type": "execute_result"
    }
   ],
   "source": [
    "# Read development data\n",
    "df_dev = pd.read_csv(\n",
    "    os.path.join(data_root, 'sst_dev.txt'), sep='\\t', header=None, names=['truth', 'text']\n",
    ")\n",
    "df_dev['truth'] = df_dev['truth'].str.replace('__label__', '')\n",
    "df_dev['truth'] = df_dev['truth'].astype(int).astype('category')\n",
    "df_dev"
   ]
  },
  {
   "cell_type": "code",
   "execution_count": 8,
   "id": "based-colon",
   "metadata": {},
   "outputs": [
    {
     "data": {
      "text/plain": [
       "Text(0, 0.5, 'Label')"
      ]
     },
     "execution_count": 8,
     "metadata": {},
     "output_type": "execute_result"
    },
    {
     "data": {
      "image/png": "[encoded data removed]",
      "text/plain": [
       "<Figure size 432x288 with 1 Axes>"
      ]
     },
     "metadata": {
      "needs_background": "light"
     },
     "output_type": "display_data"
    }
   ],
   "source": [
    "ax = df_dev['truth'].value_counts(sort=False).plot(kind='barh')\n",
    "ax.set_xlabel(\"Number of Samples in Development Set\")\n",
    "ax.set_ylabel(\"Label\")"
   ]
  }
 ],
 "metadata": {
  "kernelspec": {
   "display_name": "Python 3",
   "language": "python",
   "name": "python3"
  },
  "language_info": {
   "codemirror_mode": {
    "name": "ipython",
    "version": 3
   },
   "file_extension": ".py",
   "mimetype": "text/x-python",
   "name": "python",
   "nbconvert_exporter": "python",
   "pygments_lexer": "ipython3",
   "version": "3.9.2"
  }
 },
 "nbformat": 4,
 "nbformat_minor": 5
}
